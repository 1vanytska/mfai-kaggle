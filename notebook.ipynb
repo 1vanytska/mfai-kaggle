{
 "cells": [
  {
   "cell_type": "code",
   "execution_count": 1,
   "id": "957d6104",
   "metadata": {
    "_cell_guid": "b1076dfc-b9ad-4769-8c92-a6c4dae69d19",
    "_uuid": "8f2839f25d086af736a60e9eeb907d3b93b6e0e5",
    "execution": {
     "iopub.execute_input": "2024-12-22T18:36:24.401459Z",
     "iopub.status.busy": "2024-12-22T18:36:24.401036Z",
     "iopub.status.idle": "2024-12-22T18:36:26.947856Z",
     "shell.execute_reply": "2024-12-22T18:36:26.947010Z"
    },
    "papermill": {
     "duration": 2.553024,
     "end_time": "2024-12-22T18:36:26.950060",
     "exception": false,
     "start_time": "2024-12-22T18:36:24.397036",
     "status": "completed"
    },
    "tags": []
   },
   "outputs": [],
   "source": [
    "import pandas as pd\n",
    "import numpy as np\n",
    "import matplotlib.pyplot as plt\n",
    "import seaborn as sns\n",
    "\n",
    "from sklearn.model_selection import train_test_split\n",
    "from sklearn.ensemble import RandomForestRegressor\n",
    "from sklearn.metrics import mean_squared_error"
   ]
  },
  {
   "cell_type": "code",
   "execution_count": 2,
   "id": "a26b86f4",
   "metadata": {
    "execution": {
     "iopub.execute_input": "2024-12-22T18:36:26.956282Z",
     "iopub.status.busy": "2024-12-22T18:36:26.955793Z",
     "iopub.status.idle": "2024-12-22T18:36:27.899939Z",
     "shell.execute_reply": "2024-12-22T18:36:27.898686Z"
    },
    "papermill": {
     "duration": 0.948896,
     "end_time": "2024-12-22T18:36:27.901787",
     "exception": false,
     "start_time": "2024-12-22T18:36:26.952891",
     "status": "completed"
    },
    "tags": []
   },
   "outputs": [
    {
     "data": {
      "text/html": [
       "<div>\n",
       "<style scoped>\n",
       "    .dataframe tbody tr th:only-of-type {\n",
       "        vertical-align: middle;\n",
       "    }\n",
       "\n",
       "    .dataframe tbody tr th {\n",
       "        vertical-align: top;\n",
       "    }\n",
       "\n",
       "    .dataframe thead th {\n",
       "        text-align: right;\n",
       "    }\n",
       "</style>\n",
       "<table border=\"1\" class=\"dataframe\">\n",
       "  <thead>\n",
       "    <tr style=\"text-align: right;\">\n",
       "      <th></th>\n",
       "      <th>id</th>\n",
       "      <th>Name</th>\n",
       "      <th>Gender</th>\n",
       "      <th>Age</th>\n",
       "      <th>City</th>\n",
       "      <th>Working Professional or Student</th>\n",
       "      <th>Profession</th>\n",
       "      <th>Academic Pressure</th>\n",
       "      <th>Work Pressure</th>\n",
       "      <th>CGPA</th>\n",
       "      <th>Study Satisfaction</th>\n",
       "      <th>Job Satisfaction</th>\n",
       "      <th>Sleep Duration</th>\n",
       "      <th>Dietary Habits</th>\n",
       "      <th>Degree</th>\n",
       "      <th>Have you ever had suicidal thoughts ?</th>\n",
       "      <th>Work/Study Hours</th>\n",
       "      <th>Financial Stress</th>\n",
       "      <th>Family History of Mental Illness</th>\n",
       "      <th>Depression</th>\n",
       "    </tr>\n",
       "  </thead>\n",
       "  <tbody>\n",
       "    <tr>\n",
       "      <th>0</th>\n",
       "      <td>0</td>\n",
       "      <td>Aaradhya</td>\n",
       "      <td>Female</td>\n",
       "      <td>49.0</td>\n",
       "      <td>Ludhiana</td>\n",
       "      <td>Working Professional</td>\n",
       "      <td>Chef</td>\n",
       "      <td>NaN</td>\n",
       "      <td>5.0</td>\n",
       "      <td>NaN</td>\n",
       "      <td>NaN</td>\n",
       "      <td>2.0</td>\n",
       "      <td>More than 8 hours</td>\n",
       "      <td>Healthy</td>\n",
       "      <td>BHM</td>\n",
       "      <td>No</td>\n",
       "      <td>1.0</td>\n",
       "      <td>2.0</td>\n",
       "      <td>No</td>\n",
       "      <td>0</td>\n",
       "    </tr>\n",
       "    <tr>\n",
       "      <th>1</th>\n",
       "      <td>1</td>\n",
       "      <td>Vivan</td>\n",
       "      <td>Male</td>\n",
       "      <td>26.0</td>\n",
       "      <td>Varanasi</td>\n",
       "      <td>Working Professional</td>\n",
       "      <td>Teacher</td>\n",
       "      <td>NaN</td>\n",
       "      <td>4.0</td>\n",
       "      <td>NaN</td>\n",
       "      <td>NaN</td>\n",
       "      <td>3.0</td>\n",
       "      <td>Less than 5 hours</td>\n",
       "      <td>Unhealthy</td>\n",
       "      <td>LLB</td>\n",
       "      <td>Yes</td>\n",
       "      <td>7.0</td>\n",
       "      <td>3.0</td>\n",
       "      <td>No</td>\n",
       "      <td>1</td>\n",
       "    </tr>\n",
       "    <tr>\n",
       "      <th>2</th>\n",
       "      <td>2</td>\n",
       "      <td>Yuvraj</td>\n",
       "      <td>Male</td>\n",
       "      <td>33.0</td>\n",
       "      <td>Visakhapatnam</td>\n",
       "      <td>Student</td>\n",
       "      <td>NaN</td>\n",
       "      <td>5.0</td>\n",
       "      <td>NaN</td>\n",
       "      <td>8.97</td>\n",
       "      <td>2.0</td>\n",
       "      <td>NaN</td>\n",
       "      <td>5-6 hours</td>\n",
       "      <td>Healthy</td>\n",
       "      <td>B.Pharm</td>\n",
       "      <td>Yes</td>\n",
       "      <td>3.0</td>\n",
       "      <td>1.0</td>\n",
       "      <td>No</td>\n",
       "      <td>1</td>\n",
       "    </tr>\n",
       "    <tr>\n",
       "      <th>3</th>\n",
       "      <td>3</td>\n",
       "      <td>Yuvraj</td>\n",
       "      <td>Male</td>\n",
       "      <td>22.0</td>\n",
       "      <td>Mumbai</td>\n",
       "      <td>Working Professional</td>\n",
       "      <td>Teacher</td>\n",
       "      <td>NaN</td>\n",
       "      <td>5.0</td>\n",
       "      <td>NaN</td>\n",
       "      <td>NaN</td>\n",
       "      <td>1.0</td>\n",
       "      <td>Less than 5 hours</td>\n",
       "      <td>Moderate</td>\n",
       "      <td>BBA</td>\n",
       "      <td>Yes</td>\n",
       "      <td>10.0</td>\n",
       "      <td>1.0</td>\n",
       "      <td>Yes</td>\n",
       "      <td>1</td>\n",
       "    </tr>\n",
       "    <tr>\n",
       "      <th>4</th>\n",
       "      <td>4</td>\n",
       "      <td>Rhea</td>\n",
       "      <td>Female</td>\n",
       "      <td>30.0</td>\n",
       "      <td>Kanpur</td>\n",
       "      <td>Working Professional</td>\n",
       "      <td>Business Analyst</td>\n",
       "      <td>NaN</td>\n",
       "      <td>1.0</td>\n",
       "      <td>NaN</td>\n",
       "      <td>NaN</td>\n",
       "      <td>1.0</td>\n",
       "      <td>5-6 hours</td>\n",
       "      <td>Unhealthy</td>\n",
       "      <td>BBA</td>\n",
       "      <td>Yes</td>\n",
       "      <td>9.0</td>\n",
       "      <td>4.0</td>\n",
       "      <td>Yes</td>\n",
       "      <td>0</td>\n",
       "    </tr>\n",
       "  </tbody>\n",
       "</table>\n",
       "</div>"
      ],
      "text/plain": [
       "   id      Name  Gender   Age           City Working Professional or Student  \\\n",
       "0   0  Aaradhya  Female  49.0       Ludhiana            Working Professional   \n",
       "1   1     Vivan    Male  26.0       Varanasi            Working Professional   \n",
       "2   2    Yuvraj    Male  33.0  Visakhapatnam                         Student   \n",
       "3   3    Yuvraj    Male  22.0         Mumbai            Working Professional   \n",
       "4   4      Rhea  Female  30.0         Kanpur            Working Professional   \n",
       "\n",
       "         Profession  Academic Pressure  Work Pressure  CGPA  \\\n",
       "0              Chef                NaN            5.0   NaN   \n",
       "1           Teacher                NaN            4.0   NaN   \n",
       "2               NaN                5.0            NaN  8.97   \n",
       "3           Teacher                NaN            5.0   NaN   \n",
       "4  Business Analyst                NaN            1.0   NaN   \n",
       "\n",
       "   Study Satisfaction  Job Satisfaction     Sleep Duration Dietary Habits  \\\n",
       "0                 NaN               2.0  More than 8 hours        Healthy   \n",
       "1                 NaN               3.0  Less than 5 hours      Unhealthy   \n",
       "2                 2.0               NaN          5-6 hours        Healthy   \n",
       "3                 NaN               1.0  Less than 5 hours       Moderate   \n",
       "4                 NaN               1.0          5-6 hours      Unhealthy   \n",
       "\n",
       "    Degree Have you ever had suicidal thoughts ?  Work/Study Hours  \\\n",
       "0      BHM                                    No               1.0   \n",
       "1      LLB                                   Yes               7.0   \n",
       "2  B.Pharm                                   Yes               3.0   \n",
       "3      BBA                                   Yes              10.0   \n",
       "4      BBA                                   Yes               9.0   \n",
       "\n",
       "   Financial Stress Family History of Mental Illness  Depression  \n",
       "0               2.0                               No           0  \n",
       "1               3.0                               No           1  \n",
       "2               1.0                               No           1  \n",
       "3               1.0                              Yes           1  \n",
       "4               4.0                              Yes           0  "
      ]
     },
     "execution_count": 2,
     "metadata": {},
     "output_type": "execute_result"
    }
   ],
   "source": [
    "train = pd.read_csv('/kaggle/input/playground-series-s4e11/train.csv')\n",
    "test = pd.read_csv('/kaggle/input/playground-series-s4e11/test.csv')\n",
    "submission = pd.read_csv('/kaggle/input/playground-series-s4e11/sample_submission.csv')\n",
    "\n",
    "train.head()"
   ]
  },
  {
   "cell_type": "code",
   "execution_count": 3,
   "id": "80bd3835",
   "metadata": {
    "execution": {
     "iopub.execute_input": "2024-12-22T18:36:27.907698Z",
     "iopub.status.busy": "2024-12-22T18:36:27.907308Z",
     "iopub.status.idle": "2024-12-22T18:36:27.998759Z",
     "shell.execute_reply": "2024-12-22T18:36:27.997512Z"
    },
    "papermill": {
     "duration": 0.096388,
     "end_time": "2024-12-22T18:36:28.000756",
     "exception": false,
     "start_time": "2024-12-22T18:36:27.904368",
     "status": "completed"
    },
    "tags": []
   },
   "outputs": [
    {
     "name": "stdout",
     "output_type": "stream",
     "text": [
      "<class 'pandas.core.frame.DataFrame'>\n",
      "RangeIndex: 140700 entries, 0 to 140699\n",
      "Data columns (total 20 columns):\n",
      " #   Column                                 Non-Null Count   Dtype  \n",
      "---  ------                                 --------------   -----  \n",
      " 0   id                                     140700 non-null  int64  \n",
      " 1   Name                                   140700 non-null  object \n",
      " 2   Gender                                 140700 non-null  object \n",
      " 3   Age                                    140700 non-null  float64\n",
      " 4   City                                   140700 non-null  object \n",
      " 5   Working Professional or Student        140700 non-null  object \n",
      " 6   Profession                             104070 non-null  object \n",
      " 7   Academic Pressure                      27897 non-null   float64\n",
      " 8   Work Pressure                          112782 non-null  float64\n",
      " 9   CGPA                                   27898 non-null   float64\n",
      " 10  Study Satisfaction                     27897 non-null   float64\n",
      " 11  Job Satisfaction                       112790 non-null  float64\n",
      " 12  Sleep Duration                         140700 non-null  object \n",
      " 13  Dietary Habits                         140696 non-null  object \n",
      " 14  Degree                                 140698 non-null  object \n",
      " 15  Have you ever had suicidal thoughts ?  140700 non-null  object \n",
      " 16  Work/Study Hours                       140700 non-null  float64\n",
      " 17  Financial Stress                       140696 non-null  float64\n",
      " 18  Family History of Mental Illness       140700 non-null  object \n",
      " 19  Depression                             140700 non-null  int64  \n",
      "dtypes: float64(8), int64(2), object(10)\n",
      "memory usage: 21.5+ MB\n"
     ]
    }
   ],
   "source": [
    "train.info()"
   ]
  },
  {
   "cell_type": "code",
   "execution_count": 4,
   "id": "ce36d90a",
   "metadata": {
    "execution": {
     "iopub.execute_input": "2024-12-22T18:36:28.007139Z",
     "iopub.status.busy": "2024-12-22T18:36:28.006810Z",
     "iopub.status.idle": "2024-12-22T18:36:28.256399Z",
     "shell.execute_reply": "2024-12-22T18:36:28.255309Z"
    },
    "papermill": {
     "duration": 0.254542,
     "end_time": "2024-12-22T18:36:28.258009",
     "exception": false,
     "start_time": "2024-12-22T18:36:28.003467",
     "status": "completed"
    },
    "tags": []
   },
   "outputs": [
    {
     "data": {
      "image/png": "[encoded data removed]",
      "text/plain": [
       "<Figure size 640x480 with 1 Axes>"
      ]
     },
     "metadata": {},
     "output_type": "display_data"
    }
   ],
   "source": [
    "sns.countplot(x='Depression', data=train)\n",
    "plt.title('Distribution of values ​​in the Depression column')\n",
    "plt.show()"
   ]
  },
  {
   "cell_type": "code",
   "execution_count": 5,
   "id": "d6395a74",
   "metadata": {
    "execution": {
     "iopub.execute_input": "2024-12-22T18:36:28.265535Z",
     "iopub.status.busy": "2024-12-22T18:36:28.265178Z",
     "iopub.status.idle": "2024-12-22T18:36:30.983063Z",
     "shell.execute_reply": "2024-12-22T18:36:30.981703Z"
    },
    "papermill": {
     "duration": 2.723619,
     "end_time": "2024-12-22T18:36:30.984770",
     "exception": false,
     "start_time": "2024-12-22T18:36:28.261151",
     "status": "completed"
    },
    "tags": []
   },
   "outputs": [
    {
     "name": "stdout",
     "output_type": "stream",
     "text": [
      "   Academic Pressure  Work Pressure  Pressure\n",
      "0                NaN            5.0       5.0\n",
      "1                NaN            4.0       4.0\n",
      "2                5.0            NaN       5.0\n",
      "3                NaN            5.0       5.0\n",
      "4                NaN            1.0       1.0\n",
      "   Study Satisfaction  Job Satisfaction  Satisfaction\n",
      "0                 NaN               2.0           2.0\n",
      "1                 NaN               3.0           3.0\n",
      "2                 2.0               NaN           2.0\n",
      "3                 NaN               1.0           1.0\n",
      "4                 NaN               1.0           1.0\n"
     ]
    }
   ],
   "source": [
    "train['Pressure'] = train['Academic Pressure'].fillna(train['Work Pressure'])\n",
    "train['Satisfaction'] = train['Study Satisfaction'].fillna(train['Job Satisfaction'])\n",
    "\n",
    "mean_academic_pressure = train.loc[train['Working Professional or Student'] == 'Student', 'Academic Pressure'].mean()\n",
    "mean_study_satisfaction = train.loc[train['Working Professional or Student'] == 'Student', 'Study Satisfaction'].mean()\n",
    "\n",
    "mean_work_pressure = train.loc[train['Working Professional or Student'] == 'Working Professional', 'Work Pressure'].mean()\n",
    "mean_job_satisfaction = train.loc[train['Working Professional or Student'] == 'Working Professional', 'Job Satisfaction'].mean()\n",
    "\n",
    "def fill_pressure(row):\n",
    "    if not pd.isnull(row['Pressure']):\n",
    "        return row['Pressure']\n",
    "    if row['Working Professional or Student'] == 'Student':\n",
    "        return row['Academic Pressure'] if not pd.isnull(row['Academic Pressure']) else mean_academic_pressure\n",
    "    else:\n",
    "        return row['Work Pressure'] if not pd.isnull(row['Work Pressure']) else mean_work_pressure\n",
    "\n",
    "def fill_satisfaction(row):\n",
    "    if not pd.isnull(row['Satisfaction']):\n",
    "        return row['Satisfaction']\n",
    "    if row['Working Professional or Student'] == 'Student':\n",
    "        return row['Study Satisfaction'] if not pd.isnull(row['Study Satisfaction']) else mean_study_satisfaction\n",
    "    else:\n",
    "        return row['Job Satisfaction'] if not pd.isnull(row['Job Satisfaction']) else mean_job_satisfaction\n",
    "\n",
    "train['Pressure'] = train.apply(fill_pressure, axis=1)\n",
    "train['Satisfaction'] = train.apply(fill_satisfaction, axis=1)\n",
    "\n",
    "print(train[['Academic Pressure', 'Work Pressure', 'Pressure']].head())\n",
    "print(train[['Study Satisfaction', 'Job Satisfaction', 'Satisfaction']].head())\n",
    "\n",
    "train['CGPA'].fillna(0, inplace=True)\n",
    "train['Financial Stress'].fillna(0, inplace=True)\n",
    "train.drop(['Name', 'City', 'Profession', 'Academic Pressure', 'Work Pressure', \n",
    "            'Study Satisfaction', 'Job Satisfaction', 'Degree', 'Gender', 'Age', \n",
    "            'Work/Study Hours', 'Have you ever had suicidal thoughts ?', \n",
    "            'Sleep Duration', 'Working Professional or Student', 'Dietary Habits'], axis=1, inplace=True)"
   ]
  },
  {
   "cell_type": "code",
   "execution_count": 6,
   "id": "083455d0",
   "metadata": {
    "execution": {
     "iopub.execute_input": "2024-12-22T18:36:30.992464Z",
     "iopub.status.busy": "2024-12-22T18:36:30.992073Z",
     "iopub.status.idle": "2024-12-22T18:36:31.020480Z",
     "shell.execute_reply": "2024-12-22T18:36:31.019111Z"
    },
    "papermill": {
     "duration": 0.034318,
     "end_time": "2024-12-22T18:36:31.022331",
     "exception": false,
     "start_time": "2024-12-22T18:36:30.988013",
     "status": "completed"
    },
    "tags": []
   },
   "outputs": [
    {
     "name": "stdout",
     "output_type": "stream",
     "text": [
      "id                                  0\n",
      "CGPA                                0\n",
      "Financial Stress                    0\n",
      "Family History of Mental Illness    0\n",
      "Depression                          0\n",
      "Pressure                            0\n",
      "Satisfaction                        0\n",
      "dtype: int64\n",
      "<class 'pandas.core.frame.DataFrame'>\n",
      "RangeIndex: 140700 entries, 0 to 140699\n",
      "Data columns (total 7 columns):\n",
      " #   Column                            Non-Null Count   Dtype  \n",
      "---  ------                            --------------   -----  \n",
      " 0   id                                140700 non-null  int64  \n",
      " 1   CGPA                              140700 non-null  float64\n",
      " 2   Financial Stress                  140700 non-null  float64\n",
      " 3   Family History of Mental Illness  140700 non-null  object \n",
      " 4   Depression                        140700 non-null  int64  \n",
      " 5   Pressure                          140700 non-null  float64\n",
      " 6   Satisfaction                      140700 non-null  float64\n",
      "dtypes: float64(4), int64(2), object(1)\n",
      "memory usage: 7.5+ MB\n",
      "None\n"
     ]
    }
   ],
   "source": [
    "print(train.isnull().sum())\n",
    "print(train.info())"
   ]
  }
 ],
 "metadata": {
  "kaggle": {
   "accelerator": "none",
   "dataSources": [
    {
     "databundleVersionId": 10008389,
     "sourceId": 84895,
     "sourceType": "competition"
    }
   ],
   "dockerImageVersionId": 30822,
   "isGpuEnabled": false,
   "isInternetEnabled": false,
   "language": "python",
   "sourceType": "notebook"
  },
  "kernelspec": {
   "display_name": "Python 3",
   "language": "python",
   "name": "python3"
  },
  "language_info": {
   "codemirror_mode": {
    "name": "ipython",
    "version": 3
   },
   "file_extension": ".py",
   "mimetype": "text/x-python",
   "name": "python",
   "nbconvert_exporter": "python",
   "pygments_lexer": "ipython3",
   "version": "3.10.12"
  },
  "papermill": {
   "default_parameters": {},
   "duration": 9.554216,
   "end_time": "2024-12-22T18:36:31.746306",
   "environment_variables": {},
   "exception": null,
   "input_path": "__notebook__.ipynb",
   "output_path": "__notebook__.ipynb",
   "parameters": {},
   "start_time": "2024-12-22T18:36:22.192090",
   "version": "2.6.0"
  }
 },
 "nbformat": 4,
 "nbformat_minor": 5
}
